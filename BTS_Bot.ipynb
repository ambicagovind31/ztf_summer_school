{
  "cells": [
    {
      "cell_type": "code",
      "execution_count": 1,
      "metadata": {
        "colab": {
          "base_uri": "https://localhost:8080/"
        },
        "id": "vvaCGZcKmstU",
        "outputId": "130c6052-354c-4732-c4a8-333591b71d43"
      },
      "outputs": [
        {
          "output_type": "stream",
          "name": "stdout",
          "text": [
            "Collecting wandb\n",
            "  Downloading wandb-0.15.8-py3-none-any.whl (2.1 MB)\n",
            "\u001b[2K     \u001b[90m━━━━━━━━━━━━━━━━━━━━━━━━━━━━━━━━━━━━━━━━\u001b[0m \u001b[32m2.1/2.1 MB\u001b[0m \u001b[31m19.8 MB/s\u001b[0m eta \u001b[36m0:00:00\u001b[0m\n",
            "\u001b[?25hRequirement already satisfied: Click!=8.0.0,>=7.1 in /usr/local/lib/python3.10/dist-packages (from wandb) (8.1.6)\n",
            "Collecting GitPython!=3.1.29,>=1.0.0 (from wandb)\n",
            "  Downloading GitPython-3.1.32-py3-none-any.whl (188 kB)\n",
            "\u001b[2K     \u001b[90m━━━━━━━━━━━━━━━━━━━━━━━━━━━━━━━━━━━━━━\u001b[0m \u001b[32m188.5/188.5 kB\u001b[0m \u001b[31m12.2 MB/s\u001b[0m eta \u001b[36m0:00:00\u001b[0m\n",
            "\u001b[?25hRequirement already satisfied: requests<3,>=2.0.0 in /usr/local/lib/python3.10/dist-packages (from wandb) (2.31.0)\n",
            "Requirement already satisfied: psutil>=5.0.0 in /usr/local/lib/python3.10/dist-packages (from wandb) (5.9.5)\n",
            "Collecting sentry-sdk>=1.0.0 (from wandb)\n",
            "  Downloading sentry_sdk-1.29.2-py2.py3-none-any.whl (215 kB)\n",
            "\u001b[2K     \u001b[90m━━━━━━━━━━━━━━━━━━━━━━━━━━━━━━━━━━━━━━\u001b[0m \u001b[32m215.6/215.6 kB\u001b[0m \u001b[31m18.4 MB/s\u001b[0m eta \u001b[36m0:00:00\u001b[0m\n",
            "\u001b[?25hCollecting docker-pycreds>=0.4.0 (from wandb)\n",
            "  Downloading docker_pycreds-0.4.0-py2.py3-none-any.whl (9.0 kB)\n",
            "Requirement already satisfied: PyYAML in /usr/local/lib/python3.10/dist-packages (from wandb) (6.0.1)\n",
            "Collecting pathtools (from wandb)\n",
            "  Downloading pathtools-0.1.2.tar.gz (11 kB)\n",
            "  Preparing metadata (setup.py) ... \u001b[?25l\u001b[?25hdone\n",
            "Collecting setproctitle (from wandb)\n",
            "  Downloading setproctitle-1.3.2-cp310-cp310-manylinux_2_5_x86_64.manylinux1_x86_64.manylinux_2_17_x86_64.manylinux2014_x86_64.whl (30 kB)\n",
            "Requirement already satisfied: setuptools in /usr/local/lib/python3.10/dist-packages (from wandb) (67.7.2)\n",
            "Requirement already satisfied: appdirs>=1.4.3 in /usr/local/lib/python3.10/dist-packages (from wandb) (1.4.4)\n",
            "Requirement already satisfied: protobuf!=4.21.0,<5,>=3.19.0 in /usr/local/lib/python3.10/dist-packages (from wandb) (3.20.3)\n",
            "Requirement already satisfied: six>=1.4.0 in /usr/local/lib/python3.10/dist-packages (from docker-pycreds>=0.4.0->wandb) (1.16.0)\n",
            "Collecting gitdb<5,>=4.0.1 (from GitPython!=3.1.29,>=1.0.0->wandb)\n",
            "  Downloading gitdb-4.0.10-py3-none-any.whl (62 kB)\n",
            "\u001b[2K     \u001b[90m━━━━━━━━━━━━━━━━━━━━━━━━━━━━━━━━━━━━━━━━\u001b[0m \u001b[32m62.7/62.7 kB\u001b[0m \u001b[31m6.4 MB/s\u001b[0m eta \u001b[36m0:00:00\u001b[0m\n",
            "\u001b[?25hRequirement already satisfied: charset-normalizer<4,>=2 in /usr/local/lib/python3.10/dist-packages (from requests<3,>=2.0.0->wandb) (3.2.0)\n",
            "Requirement already satisfied: idna<4,>=2.5 in /usr/local/lib/python3.10/dist-packages (from requests<3,>=2.0.0->wandb) (3.4)\n",
            "Requirement already satisfied: urllib3<3,>=1.21.1 in /usr/local/lib/python3.10/dist-packages (from requests<3,>=2.0.0->wandb) (1.26.16)\n",
            "Requirement already satisfied: certifi>=2017.4.17 in /usr/local/lib/python3.10/dist-packages (from requests<3,>=2.0.0->wandb) (2023.7.22)\n",
            "Collecting smmap<6,>=3.0.1 (from gitdb<5,>=4.0.1->GitPython!=3.1.29,>=1.0.0->wandb)\n",
            "  Downloading smmap-5.0.0-py3-none-any.whl (24 kB)\n",
            "Building wheels for collected packages: pathtools\n",
            "  Building wheel for pathtools (setup.py) ... \u001b[?25l\u001b[?25hdone\n",
            "  Created wheel for pathtools: filename=pathtools-0.1.2-py3-none-any.whl size=8791 sha256=3a98a2c6d71a7517283c13d7f84ec6ac652a970501e9d479e6a6fab2a8a7aa75\n",
            "  Stored in directory: /root/.cache/pip/wheels/e7/f3/22/152153d6eb222ee7a56ff8617d80ee5207207a8c00a7aab794\n",
            "Successfully built pathtools\n",
            "Installing collected packages: pathtools, smmap, setproctitle, sentry-sdk, docker-pycreds, gitdb, GitPython, wandb\n",
            "Successfully installed GitPython-3.1.32 docker-pycreds-0.4.0 gitdb-4.0.10 pathtools-0.1.2 sentry-sdk-1.29.2 setproctitle-1.3.2 smmap-5.0.0 wandb-0.15.8\n"
          ]
        }
      ],
      "source": [
        "!pip install wandb"
      ]
    },
    {
      "cell_type": "code",
      "execution_count": 2,
      "metadata": {
        "id": "TszggnOxmwXo"
      },
      "outputs": [],
      "source": [
        "import numpy as np\n",
        "import pandas as pd\n",
        "import tensorflow as tf\n",
        "import wandb\n",
        "from ast import literal_eval\n",
        "\n",
        "from tensorflow import keras\n",
        "from keras.layers import Dense, Conv2D, MaxPooling2D, Flatten, Dropout, Concatenate"
      ]
    },
    {
      "cell_type": "code",
      "execution_count": 3,
      "metadata": {
        "colab": {
          "base_uri": "https://localhost:8080/"
        },
        "id": "2EXVnPeMnZFp",
        "outputId": "89b7e647-e3c6-4710-da03-8c545b5d861f"
      },
      "outputs": [
        {
          "output_type": "stream",
          "name": "stdout",
          "text": [
            "--2023-08-10 13:59:06--  https://docs.google.com/uc?export=download&confirm=t&id=16ufsYYbpJ0ZWw2ZIibPfQQ81k7OBNl9Z\n",
            "Resolving docs.google.com (docs.google.com)... 173.194.212.102, 173.194.212.113, 173.194.212.138, ...\n",
            "Connecting to docs.google.com (docs.google.com)|173.194.212.102|:443... connected.\n",
            "HTTP request sent, awaiting response... 303 See Other\n",
            "Location: https://doc-0c-6c-docs.googleusercontent.com/docs/securesc/ha0ro937gcuc7l7deffksulhg5h7mbp1/9vpe08vilketlt8l2n17ek9a5o73pnme/1691675925000/12559052158801778725/*/16ufsYYbpJ0ZWw2ZIibPfQQ81k7OBNl9Z?e=download&uuid=087486dc-6eaa-4a06-ba84-c5b77518a8dc [following]\n",
            "Warning: wildcards not supported in HTTP.\n",
            "--2023-08-10 13:59:07--  https://doc-0c-6c-docs.googleusercontent.com/docs/securesc/ha0ro937gcuc7l7deffksulhg5h7mbp1/9vpe08vilketlt8l2n17ek9a5o73pnme/1691675925000/12559052158801778725/*/16ufsYYbpJ0ZWw2ZIibPfQQ81k7OBNl9Z?e=download&uuid=087486dc-6eaa-4a06-ba84-c5b77518a8dc\n",
            "Resolving doc-0c-6c-docs.googleusercontent.com (doc-0c-6c-docs.googleusercontent.com)... 173.194.211.132, 2607:f8b0:400c:c10::84\n",
            "Connecting to doc-0c-6c-docs.googleusercontent.com (doc-0c-6c-docs.googleusercontent.com)|173.194.211.132|:443... connected.\n",
            "HTTP request sent, awaiting response... 200 OK\n",
            "Length: 1915257555 (1.8G) [application/zip]\n",
            "Saving to: ‘data.zip’\n",
            "\n",
            "data.zip            100%[===================>]   1.78G  66.4MB/s    in 25s     \n",
            "\n",
            "2023-08-10 13:59:32 (72.2 MB/s) - ‘data.zip’ saved [1915257555/1915257555]\n",
            "\n",
            "Archive:  data.zip\n",
            "  inflating: data/train_cand_ZTFSS.csv  \n",
            "  inflating: data/__MACOSX/._train_cand_ZTFSS.csv  \n",
            "  inflating: data/train_triplets_ZTFSS.npy  \n",
            "  inflating: data/__MACOSX/._train_triplets_ZTFSS.npy  \n",
            "  inflating: data/val_cand_ZTFSS.csv  \n",
            "  inflating: data/__MACOSX/._val_cand_ZTFSS.csv  \n",
            "  inflating: data/val_triplets_ZTFSS.npy  \n",
            "  inflating: data/__MACOSX/._val_triplets_ZTFSS.npy  \n"
          ]
        }
      ],
      "source": [
        "!wget --load-cookies /tmp/cookies.txt \"https://docs.google.com/uc?export=download&confirm=$(wget --quiet --save-cookies /tmp/cookies.txt --keep-session-cookies --no-check-certificate 'https://docs.google.com/uc?export=download&id=16ufsYYbpJ0ZWw2ZIibPfQQ81k7OBNl9Z' -O- | sed -rn 's/.*confirm=([0-9A-Za-z_]+).*/\\1\\n/p')&id=16ufsYYbpJ0ZWw2ZIibPfQQ81k7OBNl9Z\" -O data.zip && rm -rf /tmp/cookies.txt\n",
        "!unzip data.zip -d data"
      ]
    },
    {
      "cell_type": "code",
      "execution_count": 4,
      "metadata": {
        "id": "C57lum3Nm4i9"
      },
      "outputs": [],
      "source": [
        "config = {\n",
        "    #science, reference and difference image each 63 X 63 pixels\n",
        "    'image_size': (63,63,3),\n",
        "    'metadata_size': (14,),\n",
        "    'dropout_1': 0.3,\n",
        "    'dropout_2': 0.3,\n",
        "    'dropout_3': 0.3,\n",
        "}"
      ]
    },
    {
      "cell_type": "code",
      "execution_count": 5,
      "metadata": {
        "id": "kD2BkeMhnBkk"
      },
      "outputs": [],
      "source": [
        "def BTSModel(config):\n",
        "    #image size and metadata size might be strings, so we convert them to tuples with a literal eval\n",
        "    if type(config[\"image_size\"]) == str:\n",
        "        image_size = literal_eval(config[\"image_size\"])\n",
        "    else:\n",
        "        image_size = config[\"image_size\"]\n",
        "    if type(config[\"metadata_size\"]) == str:\n",
        "        metadata_size = literal_eval(config[\"metadata_size\"])\n",
        "    else:\n",
        "        metadata_size = config[\"metadata_size\"]\n",
        "\n",
        "    # Initialise inputs with desired shapes\n",
        "    triplet_input = keras.Input(shape=image_size, name='triplet')\n",
        "    meta_input = keras.Input(shape=metadata_size, name='metadata')\n",
        "\n",
        "    # FIRST CONV BLOCK\n",
        "    x_conv = Conv2D(16, (3, 3), activation='relu', padding='same', input_shape=(63, 63, 3), name='conv1')(triplet_input)\n",
        "    x_conv = Conv2D(16, (3, 3), activation='relu', padding='same', name='conv2')(x_conv)\n",
        "    x_conv = MaxPooling2D(pool_size=(2, 2), name='pool1')(x_conv)\n",
        "    x_conv = Dropout(config[\"dropout_1\"], name='drop1')(x_conv)\n",
        "\n",
        "    # SECOND CONV BLOCK\n",
        "    x_conv = Conv2D(32, (3, 3), activation='relu', padding='same', name='conv3')(x_conv)\n",
        "    x_conv = Conv2D(32, (3, 3), activation='relu', padding='same', name='conv4')(x_conv)\n",
        "    x_conv = MaxPooling2D(pool_size=(4, 4), name='pool2')(x_conv)\n",
        "    x_conv = Dropout(config[\"dropout_2\"], name='drop2')(x_conv)\n",
        "\n",
        "    #Flatten the layer for convenient o/p\n",
        "    x_conv = Flatten()(x_conv)\n",
        "\n",
        "    # REGULAR NEURAL NETWORK FOR METADATA\n",
        "    x_meta = Dense(16, activation='relu', name='metadata_fc_1')(meta_input)\n",
        "    x_meta = Dense(32, activation='relu', name='metadata_fc_2')(x_meta)\n",
        "\n",
        "    x = Concatenate(axis=1)([x_conv, x_meta])\n",
        "    x = Dense(16, activation='relu', name='comb_fc_2')(x)\n",
        "    x = Dropout(config[\"dropout_3\"])(x)\n",
        "\n",
        "    output = Dense(1, activation='sigmoid', name='fc_out')(x)\n",
        "\n",
        "    model = keras.Model(inputs=[triplet_input, meta_input], outputs=output, name=\"mi_cnn\")\n",
        "\n",
        "    return model"
      ]
    },
    {
      "cell_type": "code",
      "execution_count": 6,
      "metadata": {
        "id": "aeuBIt6XnGgH"
      },
      "outputs": [],
      "source": [
        "config.update({\n",
        "    'batch_size': 32,\n",
        "    'epochs': 10,\n",
        "    'learning_rate': 0.001,\n",
        "    'loss': 'binary_crossentropy',\n",
        "    'optimizer': 'adam',\n",
        "    'random_seed': 42,\n",
        "    'train_data_version': \"ZTFSS\",\n",
        "    'early_stopping_patience': 10,\n",
        "    'LR_plateau_patience': 20,\n",
        "    'reduce_LR_factor': 0.5,\n",
        "    'reduce_LR_minLR': 1e-6,\n",
        "    'beta_1': 0.9,\n",
        "    'beta_2': 0.999,\n",
        "    'metadata_cols': [\n",
        "      \"sgscore1\",\n",
        "      \"distpsnr1\",\n",
        "      \"sgscore2\",\n",
        "      \"distpsnr2\",\n",
        "      \"fwhm\",\n",
        "      \"magpsf\",\n",
        "      \"sigmapsf\",\n",
        "      \"ra\",\n",
        "      \"dec\",\n",
        "      \"diffmaglim\",\n",
        "      \"ndethist\",\n",
        "      \"nmtchps\",\n",
        "      \"age\",\n",
        "      \"peakmag_so_far\"\n",
        "    ],\n",
        "})"
      ]
    },
    {
      "cell_type": "code",
      "execution_count": 7,
      "metadata": {
        "id": "Q9dWpGOPnKWX"
      },
      "outputs": [],
      "source": [
        "tf.keras.backend.clear_session()\n",
        "tf.keras.utils.set_random_seed(config[\"random_seed\"])"
      ]
    },
    {
      "cell_type": "code",
      "execution_count": 8,
      "metadata": {
        "id": "Io1kMQ_UnNIW"
      },
      "outputs": [],
      "source": [
        "# LOAD THE DATA\n",
        "cand = pd.read_csv(f'data/train_cand_{config[\"train_data_version\"]}.csv')\n",
        "triplets = np.load(f'data/train_triplets_{config[\"train_data_version\"]}.npy', mmap_mode='r')\n",
        "val_cand = pd.read_csv(f'data/val_cand_{config[\"train_data_version\"]}.csv')\n",
        "val_triplets = np.load(f'data/val_triplets_{config[\"train_data_version\"]}.npy', mmap_mode='r')\n",
        "\n",
        "gen_cols = np.append(config['metadata_cols'], ['label'])\n",
        "\n",
        "# TRAINING AND VALIDATION DATA\n",
        "x_train, y_train = triplets, cand['label']\n",
        "x_val, y_val = val_triplets, val_cand['label']\n",
        "\n",
        "train_df = cand[gen_cols]\n",
        "val_df = val_cand[gen_cols]"
      ]
    },
    {
      "cell_type": "code",
      "execution_count": 9,
      "metadata": {
        "id": "_dX48ZZGnQLY"
      },
      "outputs": [],
      "source": [
        "# DATA AUGMENTATION\n",
        "\n",
        "train_datagen = tf.keras.preprocessing.image.ImageDataGenerator()\n",
        "val_datagen = tf.keras.preprocessing.image.ImageDataGenerator()\n",
        "\n",
        "t_generator = train_datagen.flow(x_train, train_df, batch_size=config[\"batch_size\"], seed=config[\"random_seed\"], shuffle=False)\n",
        "v_generator = val_datagen.flow(x_val, val_df, batch_size=config[\"batch_size\"], seed=config[\"random_seed\"], shuffle=False)\n",
        "\n",
        "def multiinput_train_generator():\n",
        "    while True:\n",
        "        data = t_generator.next()\n",
        "\n",
        "        imgs = data[0]\n",
        "        cols = data[1][:,:-1]\n",
        "        targets = data[1][:,-1:]\n",
        "\n",
        "        yield [imgs, cols], targets\n",
        "\n",
        "def multiinput_val_generator():\n",
        "    while True:\n",
        "        data = v_generator.next()\n",
        "\n",
        "        imgs = data[0]\n",
        "        cols = data[1][:,:-1]\n",
        "        targets = data[1][:,-1:]\n",
        "\n",
        "        yield [imgs, cols], targets\n",
        "\n",
        "training_generator = multiinput_train_generator()\n",
        "validation_generator = multiinput_val_generator()\n",
        "\n",
        "# weight data on number of ALERTS per class\n",
        "num_training_examples_per_class = np.array([np.sum(cand['label'] == 0), np.sum(cand['label'] == 1)])\n",
        "\n",
        "# fewer examples -> larger weight\n",
        "weights = (1 / num_training_examples_per_class) / np.linalg.norm((1 / num_training_examples_per_class))\n",
        "normalized_weight = weights / np.max(weights)\n",
        "\n",
        "class_weight = {i: w for i, w in enumerate(normalized_weight)}"
      ]
    },
    {
      "cell_type": "code",
      "execution_count": 10,
      "metadata": {
        "id": "O5gtEI9lndOo"
      },
      "outputs": [],
      "source": [
        "# Early stopping if learning stagnates\n",
        "early_stopping = tf.keras.callbacks.EarlyStopping(\n",
        "    monitor='val_loss',\n",
        "    verbose=1,\n",
        "    patience=config['early_stopping_patience']\n",
        ")\n",
        "\n",
        "#Lower learning rate on encountering plateau\n",
        "LR_plateau = tf.keras.callbacks.ReduceLROnPlateau(\n",
        "    monitor=\"val_loss\",\n",
        "    patience=config['LR_plateau_patience'],\n",
        "    factor=config['reduce_LR_factor'],\n",
        "    min_lr=config['reduce_LR_minLR'],\n",
        "    verbose=0\n",
        ")"
      ]
    },
    {
      "cell_type": "code",
      "execution_count": 11,
      "metadata": {
        "colab": {
          "base_uri": "https://localhost:8080/",
          "height": 191
        },
        "id": "UeDm0Onrnij-",
        "outputId": "82f1d06e-4aca-41c1-c6f0-6ae55429737d"
      },
      "outputs": [
        {
          "output_type": "display_data",
          "data": {
            "text/plain": [
              "<IPython.core.display.Javascript object>"
            ],
            "application/javascript": [
              "\n",
              "        window._wandbApiKey = new Promise((resolve, reject) => {\n",
              "            function loadScript(url) {\n",
              "            return new Promise(function(resolve, reject) {\n",
              "                let newScript = document.createElement(\"script\");\n",
              "                newScript.onerror = reject;\n",
              "                newScript.onload = resolve;\n",
              "                document.body.appendChild(newScript);\n",
              "                newScript.src = url;\n",
              "            });\n",
              "            }\n",
              "            loadScript(\"https://cdn.jsdelivr.net/npm/postmate/build/postmate.min.js\").then(() => {\n",
              "            const iframe = document.createElement('iframe')\n",
              "            iframe.style.cssText = \"width:0;height:0;border:none\"\n",
              "            document.body.appendChild(iframe)\n",
              "            const handshake = new Postmate({\n",
              "                container: iframe,\n",
              "                url: 'https://wandb.ai/authorize'\n",
              "            });\n",
              "            const timeout = setTimeout(() => reject(\"Couldn't auto authenticate\"), 5000)\n",
              "            handshake.then(function(child) {\n",
              "                child.on('authorize', data => {\n",
              "                    clearTimeout(timeout)\n",
              "                    resolve(data)\n",
              "                });\n",
              "            });\n",
              "            })\n",
              "        });\n",
              "    "
            ]
          },
          "metadata": {}
        },
        {
          "output_type": "stream",
          "name": "stderr",
          "text": [
            "\u001b[34m\u001b[1mwandb\u001b[0m: Logging into wandb.ai. (Learn how to deploy a W&B server locally: https://wandb.me/wandb-server)\n",
            "\u001b[34m\u001b[1mwandb\u001b[0m: You can find your API key in your browser here: https://wandb.ai/authorize\n",
            "wandb: Paste an API key from your profile and hit enter, or press ctrl+c to quit:"
          ]
        },
        {
          "name": "stdout",
          "output_type": "stream",
          "text": [
            " ··········\n"
          ]
        },
        {
          "output_type": "stream",
          "name": "stderr",
          "text": [
            "\u001b[34m\u001b[1mwandb\u001b[0m: Appending key for api.wandb.ai to your netrc file: /root/.netrc\n"
          ]
        },
        {
          "output_type": "display_data",
          "data": {
            "text/plain": [
              "<IPython.core.display.HTML object>"
            ],
            "text/html": [
              "Tracking run with wandb version 0.15.8"
            ]
          },
          "metadata": {}
        },
        {
          "output_type": "display_data",
          "data": {
            "text/plain": [
              "<IPython.core.display.HTML object>"
            ],
            "text/html": [
              "Run data is saved locally in <code>/content/wandb/run-20230810_140128-2tcpdxrl</code>"
            ]
          },
          "metadata": {}
        },
        {
          "output_type": "display_data",
          "data": {
            "text/plain": [
              "<IPython.core.display.HTML object>"
            ],
            "text/html": [
              "Syncing run <strong><a href='https://wandb.ai/ami-ace/BTSbot/runs/2tcpdxrl' target=\"_blank\">neat-fire-11</a></strong> to <a href='https://wandb.ai/ami-ace/BTSbot' target=\"_blank\">Weights & Biases</a> (<a href='https://wandb.me/run' target=\"_blank\">docs</a>)<br/>"
            ]
          },
          "metadata": {}
        },
        {
          "output_type": "display_data",
          "data": {
            "text/plain": [
              "<IPython.core.display.HTML object>"
            ],
            "text/html": [
              " View project at <a href='https://wandb.ai/ami-ace/BTSbot' target=\"_blank\">https://wandb.ai/ami-ace/BTSbot</a>"
            ]
          },
          "metadata": {}
        },
        {
          "output_type": "display_data",
          "data": {
            "text/plain": [
              "<IPython.core.display.HTML object>"
            ],
            "text/html": [
              " View run at <a href='https://wandb.ai/ami-ace/BTSbot/runs/2tcpdxrl' target=\"_blank\">https://wandb.ai/ami-ace/BTSbot/runs/2tcpdxrl</a>"
            ]
          },
          "metadata": {}
        }
      ],
      "source": [
        "wandb.init(project=\"BTSbot\")\n",
        "\n",
        "for param in list(config):\n",
        "    wandb.config[param] = config[param]\n",
        "\n",
        "run_name = wandb.run.name\n",
        "WandBLogger = wandb.keras.WandbMetricsLogger(log_freq=5)"
      ]
    },
    {
      "cell_type": "code",
      "execution_count": 12,
      "metadata": {
        "id": "sRWeoABink42"
      },
      "outputs": [],
      "source": [
        "model=BTSModel(config)\n",
        "\n",
        "optimizer = tf.keras.optimizers.Adam(\n",
        "    learning_rate=config['learning_rate'],\n",
        "    beta_1=config['beta_1'],\n",
        "    beta_2=config['beta_2']\n",
        ")\n",
        "model.compile(optimizer=optimizer, loss=config['loss'], metrics=['accuracy'])"
      ]
    },
    {
      "cell_type": "code",
      "execution_count": 13,
      "metadata": {
        "colab": {
          "base_uri": "https://localhost:8080/"
        },
        "id": "oDI7qsHEnndd",
        "outputId": "de73cb3f-752c-4a24-a39d-f8968fc95bfe"
      },
      "outputs": [
        {
          "output_type": "stream",
          "name": "stdout",
          "text": [
            "Epoch 1/10\n",
            "258/258 [==============================] - 171s 657ms/step - loss: 0.7705 - accuracy: 0.6447 - val_loss: 0.7099 - val_accuracy: 0.5707 - lr: 0.0010\n",
            "Epoch 2/10\n",
            "258/258 [==============================] - 171s 663ms/step - loss: 0.6430 - accuracy: 0.6628 - val_loss: 0.6782 - val_accuracy: 0.5723 - lr: 0.0010\n",
            "Epoch 3/10\n",
            "258/258 [==============================] - 148s 576ms/step - loss: 0.6185 - accuracy: 0.6879 - val_loss: 0.6365 - val_accuracy: 0.6596 - lr: 0.0010\n",
            "Epoch 4/10\n",
            "258/258 [==============================] - 143s 555ms/step - loss: 0.5604 - accuracy: 0.7341 - val_loss: 0.6190 - val_accuracy: 0.6651 - lr: 0.0010\n",
            "Epoch 5/10\n",
            "258/258 [==============================] - 170s 660ms/step - loss: 0.5388 - accuracy: 0.7521 - val_loss: 0.6054 - val_accuracy: 0.6919 - lr: 0.0010\n",
            "Epoch 6/10\n",
            "258/258 [==============================] - 168s 654ms/step - loss: 0.5300 - accuracy: 0.7532 - val_loss: 0.6600 - val_accuracy: 0.6615 - lr: 0.0010\n",
            "Epoch 7/10\n",
            "258/258 [==============================] - 169s 656ms/step - loss: 0.5298 - accuracy: 0.7546 - val_loss: 0.6304 - val_accuracy: 0.6791 - lr: 0.0010\n",
            "Epoch 8/10\n",
            "258/258 [==============================] - 145s 563ms/step - loss: 0.5215 - accuracy: 0.7549 - val_loss: 0.5902 - val_accuracy: 0.7024 - lr: 0.0010\n",
            "Epoch 9/10\n",
            "258/258 [==============================] - 169s 655ms/step - loss: 0.5100 - accuracy: 0.7634 - val_loss: 0.5710 - val_accuracy: 0.7074 - lr: 0.0010\n",
            "Epoch 10/10\n",
            "258/258 [==============================] - 169s 656ms/step - loss: 0.4999 - accuracy: 0.7701 - val_loss: 0.5616 - val_accuracy: 0.7140 - lr: 0.0010\n"
          ]
        }
      ],
      "source": [
        "h = model.fit(\n",
        "    training_generator,\n",
        "    steps_per_epoch=0.8*len(x_train) // config[\"batch_size\"],\n",
        "    validation_data=validation_generator,\n",
        "    validation_steps=(0.8*len(x_val)) // config[\"batch_size\"],\n",
        "    epochs=config[\"epochs\"],\n",
        "    verbose=1, callbacks=[early_stopping, LR_plateau, WandBLogger]\n",
        ")"
      ]
    },
    {
      "cell_type": "code",
      "execution_count": 14,
      "metadata": {
        "colab": {
          "base_uri": "https://localhost:8080/"
        },
        "id": "s60i5nDqnxIx",
        "outputId": "b7946edd-d0bb-431c-8194-4d8eed7edcbe"
      },
      "outputs": [
        {
          "output_type": "stream",
          "name": "stdout",
          "text": [
            "324/324 [==============================] - 27s 84ms/step\n"
          ]
        },
        {
          "output_type": "execute_result",
          "data": {
            "text/plain": [
              "array([[0.33522192],\n",
              "       [0.39033067],\n",
              "       [0.14788833],\n",
              "       ...,\n",
              "       [0.86777884],\n",
              "       [0.28539777],\n",
              "       [0.91217464]], dtype=float32)"
            ]
          },
          "metadata": {},
          "execution_count": 14
        }
      ],
      "source": [
        "raw_preds = model.predict([triplets, cand.loc[:,config[\"metadata_cols\"]]], batch_size=config['batch_size'], verbose=1)\n",
        "raw_preds"
      ]
    },
    {
      "cell_type": "code",
      "execution_count": 15,
      "metadata": {
        "colab": {
          "base_uri": "https://localhost:8080/"
        },
        "id": "1lDfY08WqTMb",
        "outputId": "35599c84-6936-4662-b575-209f85acd7b9"
      },
      "outputs": [
        {
          "output_type": "stream",
          "name": "stdout",
          "text": [
            "Overall validation accuracy 78.43%\n"
          ]
        }
      ],
      "source": [
        "preds = np.rint(np.transpose(raw_preds))[0].astype(int)\n",
        "labels = cand[\"label\"].to_numpy(dtype=int)\n",
        "\n",
        "results = preds == labels\n",
        "print(f\"Overall validation accuracy {100*np.sum(results) / len(results):.2f}%\")"
      ]
    },
    {
      "cell_type": "code",
      "execution_count": 16,
      "metadata": {
        "colab": {
          "base_uri": "https://localhost:8080/"
        },
        "id": "0yWOR5XMqVCf",
        "outputId": "327b1a53-815e-48cb-c802-8a1da41c2025"
      },
      "outputs": [
        {
          "output_type": "stream",
          "name": "stdout",
          "text": [
            "Requirement already satisfied: scikit-learn in /usr/local/lib/python3.10/dist-packages (1.2.2)\n",
            "Requirement already satisfied: numpy>=1.17.3 in /usr/local/lib/python3.10/dist-packages (from scikit-learn) (1.23.5)\n",
            "Requirement already satisfied: scipy>=1.3.2 in /usr/local/lib/python3.10/dist-packages (from scikit-learn) (1.10.1)\n",
            "Requirement already satisfied: joblib>=1.1.1 in /usr/local/lib/python3.10/dist-packages (from scikit-learn) (1.3.1)\n",
            "Requirement already satisfied: threadpoolctl>=2.0.0 in /usr/local/lib/python3.10/dist-packages (from scikit-learn) (3.2.0)\n"
          ]
        }
      ],
      "source": [
        "!pip install scikit-learn"
      ]
    },
    {
      "cell_type": "code",
      "source": [
        "from sklearn.metrics import confusion_matrix, ConfusionMatrixDisplay\n",
        "\n",
        "cm = confusion_matrix(labels, preds)\n",
        "disp = ConfusionMatrixDisplay(confusion_matrix=cm)\n",
        "disp.plot()"
      ],
      "metadata": {
        "colab": {
          "base_uri": "https://localhost:8080/",
          "height": 466
        },
        "id": "EplmTxr4LxN4",
        "outputId": "17a2746f-737c-47de-d04c-43267ef493b9"
      },
      "execution_count": 19,
      "outputs": [
        {
          "output_type": "execute_result",
          "data": {
            "text/plain": [
              "<sklearn.metrics._plot.confusion_matrix.ConfusionMatrixDisplay at 0x7cfd7799fe80>"
            ]
          },
          "metadata": {},
          "execution_count": 19
        },
        {
          "output_type": "display_data",
          "data": {
            "text/plain": [
              "<Figure size 640x480 with 2 Axes>"
            ],
            "image/png": "[encoded data removed]"
          },
          "metadata": {}
        }
      ]
    },
    {
      "cell_type": "code",
      "source": [
        "from sklearn.metrics import precision_score,recall_score,f1_score\n",
        "\n",
        "print('Precision Score=',precision_score(labels,preds))\n",
        "print('Recall Score=',recall_score(labels,preds))\n",
        "print('F1 Score=',f1_score(labels,preds))"
      ],
      "metadata": {
        "colab": {
          "base_uri": "https://localhost:8080/"
        },
        "id": "wWWHsa0KW6R-",
        "outputId": "52505bb0-20bd-478e-ace7-f46e46ffce9c"
      },
      "execution_count": 22,
      "outputs": [
        {
          "output_type": "stream",
          "name": "stdout",
          "text": [
            "Precision Score= 0.695195672923958\n",
            "Recall Score= 0.6313204276220745\n",
            "F1 Score= 0.6617201695941852\n"
          ]
        }
      ]
    }
  ],
  "metadata": {
    "colab": {
      "provenance": [],
      "authorship_tag": "ABX9TyPiwA3WOCMESjf2Vy/xUlEU"
    },
    "kernelspec": {
      "display_name": "Python 3",
      "name": "python3"
    },
    "language_info": {
      "name": "python"
    }
  },
  "nbformat": 4,
  "nbformat_minor": 0
}